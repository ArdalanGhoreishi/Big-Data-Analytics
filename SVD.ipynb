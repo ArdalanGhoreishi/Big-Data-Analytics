{
  "nbformat": 4,
  "nbformat_minor": 0,
  "metadata": {
    "colab": {
      "name": "Untitled4.ipynb",
      "provenance": []
    },
    "kernelspec": {
      "name": "python3",
      "display_name": "Python 3"
    },
    "language_info": {
      "name": "python"
    }
  },
  "cells": [
    {
      "cell_type": "code",
      "metadata": {
        "colab": {
          "base_uri": "https://localhost:8080/"
        },
        "id": "yhLvybQ5ZODs",
        "outputId": "c92a10ab-08af-4270-a0a4-a94aa2f8eaca"
      },
      "source": [
        "import scipy.linalg as sl\n",
        "import numpy as np\n",
        "M = [[1, 2],\n",
        "     [2, 1],\n",
        "     [3, 4],\n",
        "     [4, 3]]\n",
        "M = np.array(M)\n",
        "U, s, Vh = sl.svd(M, full_matrices=False)\n",
        "print('U')\n",
        "print(U)\n",
        "print('Sigma')\n",
        "print(s)\n",
        "print('VT')\n",
        "print(Vh)\n",
        "\n",
        "Evals, Evecs = sl.eigh(M.T @ M)\n",
        "\n",
        "indices = np.argsort(Evals)[::-1]\n",
        "\n",
        "Evals = Evals[indices]\n",
        "Evecs = Evecs[:, indices]\n",
        "\n",
        "print('Evals')\n",
        "print(Evals)\n",
        "print('Evecs')\n",
        "print(Evecs)\n",
        "\n"
      ],
      "execution_count": 1,
      "outputs": [
        {
          "output_type": "stream",
          "text": [
            "U\n",
            "[[-0.27854301  0.5       ]\n",
            " [-0.27854301 -0.5       ]\n",
            " [-0.64993368  0.5       ]\n",
            " [-0.64993368 -0.5       ]]\n",
            "Sigma\n",
            "[7.61577311 1.41421356]\n",
            "VT\n",
            "[[-0.70710678 -0.70710678]\n",
            " [-0.70710678  0.70710678]]\n",
            "Evals\n",
            "[58.  2.]\n",
            "Evecs\n",
            "[[ 0.70710678 -0.70710678]\n",
            " [ 0.70710678  0.70710678]]\n"
          ],
          "name": "stdout"
        }
      ]
    }
  ]
}