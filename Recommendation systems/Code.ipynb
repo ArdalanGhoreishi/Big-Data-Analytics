{
  "nbformat": 4,
  "nbformat_minor": 0,
  "metadata": {
    "colab": {
      "name": "q3.ipynb",
      "provenance": []
    },
    "kernelspec": {
      "name": "python3",
      "display_name": "Python 3"
    },
    "language_info": {
      "name": "python"
    }
  },
  "cells": [
    {
      "cell_type": "code",
      "metadata": {
        "colab": {
          "base_uri": "https://localhost:8080/"
        },
        "id": "AruiAhgc47N4",
        "outputId": "5e202d44-f990-441b-f541-9d542cb425ac"
      },
      "source": [
        "from google.colab import drive\n",
        "drive.mount('/content/drive')"
      ],
      "execution_count": 2,
      "outputs": [
        {
          "output_type": "stream",
          "text": [
            "Mounted at /content/drive\n"
          ],
          "name": "stdout"
        }
      ]
    },
    {
      "cell_type": "code",
      "metadata": {
        "colab": {
          "base_uri": "https://localhost:8080/"
        },
        "id": "k3IMh7AGpY3l",
        "outputId": "ef720b0b-f261-4ce3-c170-2d7581683d66"
      },
      "source": [
        "import numpy as np\n",
        "\n",
        "dataPath = '/content/drive/MyDrive/HW2bd/data q3/user-shows.txt'\n",
        "showsPath = '/content/drive/MyDrive/HW2bd/data q3/shows.txt'\n",
        "\n",
        "shows = []\n",
        "with open(showsPath) as f:\n",
        "    for line in f:\n",
        "        shows.append(line.strip())\n",
        "\n",
        "m = 9985\n",
        "n = 563\n",
        "\n",
        "R = np.zeros((m, n), dtype=np.int16)\n",
        "with open(dataPath) as f:\n",
        "    for i, line in enumerate(f):\n",
        "        R[i, :] = list(map(int, line.split()))\n",
        "\n",
        "p = np.sum(R, axis=1)\n",
        "q = np.sum(R, axis=0)\n",
        "\n",
        "p_ = 1 / np.sqrt(p)\n",
        "q_ = 1 / np.sqrt(q)\n",
        "\n",
        "RTp_ = R.T * p_[None, :]\n",
        "Rq_ = R * q_[None, :]\n",
        "\n",
        "rU = RTp_.T @ RTp_ @ R\n",
        "rI = R @ Rq_.T @ Rq_\n",
        "\n",
        "alexi = 499\n",
        "rU_focus = rU[alexi, :100]\n",
        "rI_focus = rI[alexi, :100]\n",
        "\n",
        "rU_idx = np.argsort(rU_focus)[::-1][:5]\n",
        "rI_idx = np.argsort(rI_focus)[::-1][:5]\n",
        "\n",
        "rU_results = list(zip(rU_focus[rU_idx], rU_idx, [shows[i] for i in rU_idx]))\n",
        "rI_results = list(zip(rI_focus[rI_idx], rI_idx, [shows[i] for i in rI_idx]))\n",
        "\n",
        "print(rU_results)\n",
        "print(rI_results)\n"
      ],
      "execution_count": 3,
      "outputs": [
        {
          "output_type": "stream",
          "text": [
            "[(908.4800534761281, 96, '\"FOX 28 News at 10pm\"'), (861.1759992873298, 74, '\"Family Guy\"'), (827.601295474358, 45, '\"2009 NCAA Basketball Tournament\"'), (784.7819589039739, 60, '\"NBC 4 at Eleven\"'), (757.6011181024229, 9, '\"Two and a Half Men\"')]\n",
            "[(31.36470167834241, 96, '\"FOX 28 News at 10pm\"'), (30.001141798877768, 74, '\"Family Guy\"'), (29.396797773402543, 60, '\"NBC 4 at Eleven\"'), (29.227001561500483, 45, '\"2009 NCAA Basketball Tournament\"'), (28.971277674055564, 82, '\"Access Hollywood\"')]\n"
          ],
          "name": "stdout"
        }
      ]
    }
  ]
}