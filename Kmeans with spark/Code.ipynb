{
  "nbformat": 4,
  "nbformat_minor": 0,
  "metadata": {
    "colab": {
      "name": "kmeans (1).ipynb",
      "provenance": [],
      "collapsed_sections": []
    },
    "kernelspec": {
      "name": "python3",
      "display_name": "Python 3"
    },
    "language_info": {
      "name": "python"
    }
  },
  "cells": [
    {
      "cell_type": "code",
      "metadata": {
        "id": "4lFT9JYAFmQ0",
        "colab": {
          "base_uri": "https://localhost:8080/"
        },
        "outputId": "f908b149-8790-4aca-e8e0-545e540606e9"
      },
      "source": [
        "!pip install pyspark\n"
      ],
      "execution_count": 1,
      "outputs": [
        {
          "output_type": "stream",
          "text": [
            "Collecting pyspark\n",
            "\u001b[?25l  Downloading https://files.pythonhosted.org/packages/89/db/e18cfd78e408de957821ec5ca56de1250645b05f8523d169803d8df35a64/pyspark-3.1.2.tar.gz (212.4MB)\n",
            "\u001b[K     |████████████████████████████████| 212.4MB 65kB/s \n",
            "\u001b[?25hCollecting py4j==0.10.9\n",
            "\u001b[?25l  Downloading https://files.pythonhosted.org/packages/9e/b6/6a4fb90cd235dc8e265a6a2067f2a2c99f0d91787f06aca4bcf7c23f3f80/py4j-0.10.9-py2.py3-none-any.whl (198kB)\n",
            "\u001b[K     |████████████████████████████████| 204kB 16.3MB/s \n",
            "\u001b[?25hBuilding wheels for collected packages: pyspark\n",
            "  Building wheel for pyspark (setup.py) ... \u001b[?25l\u001b[?25hdone\n",
            "  Created wheel for pyspark: filename=pyspark-3.1.2-py2.py3-none-any.whl size=212880768 sha256=57adc005f5590f5b9d58519793d9239de1b7c8db65c075211e6f372b2b83a267\n",
            "  Stored in directory: /root/.cache/pip/wheels/40/1b/2c/30f43be2627857ab80062bef1527c0128f7b4070b6b2d02139\n",
            "Successfully built pyspark\n",
            "Installing collected packages: py4j, pyspark\n",
            "Successfully installed py4j-0.10.9 pyspark-3.1.2\n"
          ],
          "name": "stdout"
        }
      ]
    },
    {
      "cell_type": "code",
      "metadata": {
        "colab": {
          "base_uri": "https://localhost:8080/"
        },
        "id": "jKWzmRWovCOk",
        "outputId": "d762c4d4-775a-4294-fae0-d3de709489d7"
      },
      "source": [
        "from google.colab import drive\n",
        "drive.mount('/content/drive')"
      ],
      "execution_count": 2,
      "outputs": [
        {
          "output_type": "stream",
          "text": [
            "Mounted at /content/drive\n"
          ],
          "name": "stdout"
        }
      ]
    },
    {
      "cell_type": "code",
      "metadata": {
        "id": "MqvYcGzoIWJS"
      },
      "source": [
        "from pyspark import SparkConf, SparkContext\n",
        "\n",
        "import pickle\n",
        "from functools import reduce"
      ],
      "execution_count": 1,
      "outputs": []
    },
    {
      "cell_type": "code",
      "metadata": {
        "colab": {
          "base_uri": "https://localhost:8080/"
        },
        "id": "C-v0Cc7kBfyz",
        "outputId": "3eb036cf-e3ea-4f57-9efc-acf1ab746ca9"
      },
      "source": [
        "sc = SparkContext(conf=SparkConf())\n",
        "def l22(u, v):\n",
        "    delta = [u[i] - v[i] for i in range(len(u))]\n",
        "    return reduce(lambda a, b: a + b * b, delta, 0)\n",
        "\n",
        "def l1(u, v):\n",
        "    delta = [u[i] - v[i] for i in range(len(u))]\n",
        "    return reduce(lambda a, b: a + abs(b), delta, 0)\n",
        "\n",
        "def findCentroid(pt, cens, distFcn, phi):\n",
        "    best = float('inf')\n",
        "    besti = None\n",
        "    for i, cen in enumerate(cens.value):\n",
        "        cand = distFcn(pt, cen)\n",
        "        if cand < best:\n",
        "            best = cand\n",
        "            besti = i\n",
        "    phi += best\n",
        "    return besti, pt\n",
        "\n",
        "def aggregate_UV(cumulative, pt):\n",
        "    cumulative_pt, cumulative_cnt = cumulative\n",
        "    for i in range(len(pt)):\n",
        "        cumulative_pt[i] += pt[i]\n",
        "    return cumulative_pt, cumulative_cnt + 1\n",
        "\n",
        "def aggregate_UU(a, b):\n",
        "    a_pt, a_cnt = a\n",
        "    b_pt, b_cnt = b\n",
        "    for i in range(len(a_pt)):\n",
        "        a_pt[i] += b_pt[i]\n",
        "    return a_pt, a_cnt + b_cnt\n",
        "\n",
        "dataDir = '/content/drive/MyDrive/HW2bd/data/'\n",
        "dataFile = 'data.txt'\n",
        "#censFile = 'c1.txt'\n",
        "censFile = 'c2.txt'\n",
        "#distFcn = l1\n",
        "distFcn = l22\n",
        "outFile = 'dist_' + distFcn.__name__ + '__' + censFile\n",
        "\n",
        "MAX_ITER = 20\n",
        "k = 10\n",
        "# NDATA = 4601\n",
        "NDIM = 58\n",
        "\n",
        "# init centroids\n",
        "cens = []\n",
        "with open(dataDir + censFile) as fh:\n",
        "    for line in fh:\n",
        "        if not line:\n",
        "            continue\n",
        "        cens.append(list(map(float, line.split())))\n",
        "\n",
        "cens = sc.broadcast(cens)\n",
        "\n",
        "# load data\n",
        "data = sc.textFile(dataDir + dataFile)\n",
        "data = data.map(lambda l: list(map(float, l.split())))\n",
        "\n",
        "phi = sc.accumulator(0)\n",
        "totCosts = []\n",
        "\n",
        "for it in range(1, MAX_ITER + 1):\n",
        "    print('\\n' * 2 + 'iteration %d' % it + '\\n' * 2)\n",
        "\n",
        "    #assign each pt to a centroid\n",
        "    i_pt = data.map(lambda pt: findCentroid(pt, cens, distFcn, phi))\n",
        "    \n",
        "    # update centroids\n",
        "    i_sumCoors_cnt = i_pt.aggregateByKey(([0] * NDIM, 0),\n",
        "                                         aggregate_UV, aggregate_UU)\n",
        "    i_sumCoors_cnt = i_sumCoors_cnt.collect()\n",
        "    newCens = [None] * k\n",
        "    for i, sumCoors_cnt in i_sumCoors_cnt:\n",
        "        sumCoors, cnt = sumCoors_cnt\n",
        "        newCens[i] = [sumCoors[j] / cnt for j in range(len(sumCoors))]\n",
        "    assert not any([cen is None for cen in newCens])\n",
        "\n",
        "    # record cost, prep new iter\n",
        "    totCosts.append(phi.value)\n",
        "    phi.value = 0\n",
        "    cens.unpersist()\n",
        "    cens = sc.broadcast(newCens)\n",
        "\n",
        "print(totCosts)\n",
        "sc.stop()\n",
        "\n",
        "with open(outFile, 'wb') as fh:\n",
        "    pickle.dump(totCosts, fh)"
      ],
      "execution_count": 7,
      "outputs": [
        {
          "output_type": "stream",
          "text": [
            "\n",
            "\n",
            "iteration 1\n",
            "\n",
            "\n",
            "\n",
            "\n",
            "iteration 2\n",
            "\n",
            "\n",
            "\n",
            "\n",
            "iteration 3\n",
            "\n",
            "\n",
            "\n",
            "\n",
            "iteration 4\n",
            "\n",
            "\n",
            "\n",
            "\n",
            "iteration 5\n",
            "\n",
            "\n",
            "\n",
            "\n",
            "iteration 6\n",
            "\n",
            "\n",
            "\n",
            "\n",
            "iteration 7\n",
            "\n",
            "\n",
            "\n",
            "\n",
            "iteration 8\n",
            "\n",
            "\n",
            "\n",
            "\n",
            "iteration 9\n",
            "\n",
            "\n",
            "\n",
            "\n",
            "iteration 10\n",
            "\n",
            "\n",
            "\n",
            "\n",
            "iteration 11\n",
            "\n",
            "\n",
            "\n",
            "\n",
            "iteration 12\n",
            "\n",
            "\n",
            "\n",
            "\n",
            "iteration 13\n",
            "\n",
            "\n",
            "\n",
            "\n",
            "iteration 14\n",
            "\n",
            "\n",
            "\n",
            "\n",
            "iteration 15\n",
            "\n",
            "\n",
            "\n",
            "\n",
            "iteration 16\n",
            "\n",
            "\n",
            "\n",
            "\n",
            "iteration 17\n",
            "\n",
            "\n",
            "\n",
            "\n",
            "iteration 18\n",
            "\n",
            "\n",
            "\n",
            "\n",
            "iteration 19\n",
            "\n",
            "\n",
            "\n",
            "\n",
            "iteration 20\n",
            "\n",
            "\n",
            "[438747790.02791756, 249803933.62600276, 194494814.40631253, 169804841.4515432, 156295748.8062759, 149094208.10896596, 142508531.61961532, 132303869.40652987, 117170969.83719075, 108547377.17857003, 102237203.3179959, 98278015.74975666, 95630226.12177408, 93793314.051193, 92377131.96821065, 91541606.25423889, 91045573.83042458, 90752240.10140811, 90470170.18122731, 90216416.1756313]\n"
          ],
          "name": "stdout"
        }
      ]
    },
    {
      "cell_type": "code",
      "metadata": {
        "colab": {
          "base_uri": "https://localhost:8080/",
          "height": 602
        },
        "id": "KxaMRMHLBpfF",
        "outputId": "396a5307-a765-40fb-8dc4-f4e1695ff10e"
      },
      "source": [
        "import matplotlib.pyplot as pl\n",
        "import pickle\n",
        "pl.close('all')\n",
        "\n",
        "with open('dist_l1__c1.txt', 'rb') as fh:\n",
        "    l1c1 = pickle.load(fh)\n",
        "with open('dist_l1__c2.txt', 'rb') as fh:\n",
        "    l1c2 = pickle.load(fh)\n",
        "with open('dist_l22__c1.txt', 'rb') as fh:\n",
        "    l22c1 = pickle.load(fh)\n",
        "with open('dist_l22__c2.txt', 'rb') as fh:\n",
        "    l22c2 = pickle.load(fh)\n",
        "\n",
        "\n",
        "pl.plot(l1c1, label='L1, c1')\n",
        "pl.plot(l1c2, label='L1, c2')\n",
        "pl.legend()\n",
        "\n",
        "pl.figure()\n",
        "pl.plot(l22c1, label='L2^2, c1')\n",
        "pl.plot(l22c2, label='L2^2, c2')\n",
        "pl.legend()\n",
        "\n",
        "def change(L):\n",
        "    return (L[0] - L[10]) / L[0]\n",
        "\n",
        "print('L2^2 c1', change(l22c1))\n",
        "print('L2^2 c2', change(l22c2))\n",
        "print('L1   c1', change(l1c1))\n",
        "print('L1   c2', change(l1c2))\n"
      ],
      "execution_count": 6,
      "outputs": [
        {
          "output_type": "stream",
          "text": [
            "L2^2 c1 0.2648391714456053\n",
            "L2^2 c2 0.7669795594605946\n",
            "L1   c1 0.18654709691385904\n",
            "L1   c2 0.515540991023891\n"
          ],
          "name": "stdout"
        },
        {
          "output_type": "display_data",
          "data": {
            "image/png": "[encoded data removed]",
            "text/plain": [
              "<Figure size 432x288 with 1 Axes>"
            ]
          },
          "metadata": {
            "tags": [],
            "needs_background": "light"
          }
        },
        {
          "output_type": "display_data",
          "data": {
            "image/png": "[encoded data removed]",
            "text/plain": [
              "<Figure size 432x288 with 1 Axes>"
            ]
          },
          "metadata": {
            "tags": [],
            "needs_background": "light"
          }
        }
      ]
    }
  ]
}